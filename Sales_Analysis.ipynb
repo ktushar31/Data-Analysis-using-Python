{
 "cells": [
  {
   "cell_type": "markdown",
   "id": "1db4c081",
   "metadata": {},
   "source": [
    "# Sales Data Analysis\n",
    "\n",
    "This notebook performs exploratory data analysis (EDA) on sales data. It includes data cleaning, visualization, and key business insights."
   ]
  },
  {
   "cell_type": "code",
   "execution_count": 3,
   "id": "dd55b485",
   "metadata": {},
   "outputs": [],
   "source": [
    "import pandas as pd\n",
    "import matplotlib.pyplot as plt\n",
    "import seaborn as sns\n",
    "\n",
    "sns.set(style=\"whitegrid\")  # Set Seaborn style"
   ]
  },
  {
   "cell_type": "markdown",
   "id": "edd6e935",
   "metadata": {},
   "source": [
    "## 1. Load and Preview Data"
   ]
  },
  {
   "cell_type": "code",
   "execution_count": 4,
   "id": "d24ad1f5",
   "metadata": {},
   "outputs": [
    {
     "data": {
      "text/html": [
       "<div>\n",
       "<style scoped>\n",
       "    .dataframe tbody tr th:only-of-type {\n",
       "        vertical-align: middle;\n",
       "    }\n",
       "\n",
       "    .dataframe tbody tr th {\n",
       "        vertical-align: top;\n",
       "    }\n",
       "\n",
       "    .dataframe thead th {\n",
       "        text-align: right;\n",
       "    }\n",
       "</style>\n",
       "<table border=\"1\" class=\"dataframe\">\n",
       "  <thead>\n",
       "    <tr style=\"text-align: right;\">\n",
       "      <th></th>\n",
       "      <th>OrderID</th>\n",
       "      <th>CustomerID</th>\n",
       "      <th>CustomerName</th>\n",
       "      <th>Gender</th>\n",
       "      <th>Age</th>\n",
       "      <th>ProductID</th>\n",
       "      <th>ProductName</th>\n",
       "      <th>Category</th>\n",
       "      <th>Quantity</th>\n",
       "      <th>Price</th>\n",
       "      <th>Total</th>\n",
       "      <th>OrderDate</th>\n",
       "      <th>City</th>\n",
       "    </tr>\n",
       "  </thead>\n",
       "  <tbody>\n",
       "    <tr>\n",
       "      <th>0</th>\n",
       "      <td>O10000</td>\n",
       "      <td>C4863</td>\n",
       "      <td>Tanya Wilcox</td>\n",
       "      <td>Female</td>\n",
       "      <td>54.0</td>\n",
       "      <td>P005</td>\n",
       "      <td>T-shirt</td>\n",
       "      <td>Clothing</td>\n",
       "      <td>4.0</td>\n",
       "      <td>15.0</td>\n",
       "      <td>60.00</td>\n",
       "      <td>2025-02-21</td>\n",
       "      <td>NaN</td>\n",
       "    </tr>\n",
       "    <tr>\n",
       "      <th>1</th>\n",
       "      <td>O10001</td>\n",
       "      <td>C9185</td>\n",
       "      <td>Robin Adams</td>\n",
       "      <td>male</td>\n",
       "      <td>30.0</td>\n",
       "      <td>P009</td>\n",
       "      <td>Backpack</td>\n",
       "      <td>Accessories</td>\n",
       "      <td>4.0</td>\n",
       "      <td>35.0</td>\n",
       "      <td>140.00</td>\n",
       "      <td>2025-04-11</td>\n",
       "      <td>NaN</td>\n",
       "    </tr>\n",
       "    <tr>\n",
       "      <th>2</th>\n",
       "      <td>O10002</td>\n",
       "      <td>C3676</td>\n",
       "      <td>Lindsay Carney</td>\n",
       "      <td>Fmale</td>\n",
       "      <td>NaN</td>\n",
       "      <td>P003</td>\n",
       "      <td>Yoga Mat</td>\n",
       "      <td>Sports</td>\n",
       "      <td>NaN</td>\n",
       "      <td>20.0</td>\n",
       "      <td>NaN</td>\n",
       "      <td>2025-01-11</td>\n",
       "      <td>NaN</td>\n",
       "    </tr>\n",
       "    <tr>\n",
       "      <th>3</th>\n",
       "      <td>O10003</td>\n",
       "      <td>C5222</td>\n",
       "      <td>Alyssa Cherry</td>\n",
       "      <td>Fmale</td>\n",
       "      <td>48.0</td>\n",
       "      <td>P001</td>\n",
       "      <td>Wireless Mouse</td>\n",
       "      <td>Electronics</td>\n",
       "      <td>2.0</td>\n",
       "      <td>25.99</td>\n",
       "      <td>51.98</td>\n",
       "      <td>2025-01-02</td>\n",
       "      <td>NaN</td>\n",
       "    </tr>\n",
       "    <tr>\n",
       "      <th>4</th>\n",
       "      <td>O10004</td>\n",
       "      <td>C9821</td>\n",
       "      <td>Maria Miller</td>\n",
       "      <td>male</td>\n",
       "      <td>NaN</td>\n",
       "      <td>P006</td>\n",
       "      <td>Water Bottle</td>\n",
       "      <td>Sports</td>\n",
       "      <td>1.0</td>\n",
       "      <td>12.0</td>\n",
       "      <td>12.00</td>\n",
       "      <td>2025-02-17</td>\n",
       "      <td>NaN</td>\n",
       "    </tr>\n",
       "  </tbody>\n",
       "</table>\n",
       "</div>"
      ],
      "text/plain": [
       "  OrderID CustomerID    CustomerName  Gender   Age ProductID     ProductName  \\\n",
       "0  O10000      C4863    Tanya Wilcox  Female  54.0      P005         T-shirt   \n",
       "1  O10001      C9185     Robin Adams    male  30.0      P009        Backpack   \n",
       "2  O10002      C3676  Lindsay Carney   Fmale   NaN      P003        Yoga Mat   \n",
       "3  O10003      C5222   Alyssa Cherry   Fmale  48.0      P001  Wireless Mouse   \n",
       "4  O10004      C9821    Maria Miller    male   NaN      P006    Water Bottle   \n",
       "\n",
       "      Category  Quantity  Price   Total   OrderDate City  \n",
       "0     Clothing       4.0   15.0   60.00  2025-02-21  NaN  \n",
       "1  Accessories       4.0   35.0  140.00  2025-04-11  NaN  \n",
       "2       Sports       NaN   20.0     NaN  2025-01-11  NaN  \n",
       "3  Electronics       2.0  25.99   51.98  2025-01-02  NaN  \n",
       "4       Sports       1.0   12.0   12.00  2025-02-17  NaN  "
      ]
     },
     "execution_count": 4,
     "metadata": {},
     "output_type": "execute_result"
    }
   ],
   "source": [
    "df = pd.read_csv(\"SalesData_1000.csv\")\n",
    "df.head()"
   ]
  },
  {
   "cell_type": "markdown",
   "id": "24fae523",
   "metadata": {},
   "source": [
    "## 2. Data Overview"
   ]
  },
  {
   "cell_type": "code",
   "execution_count": 5,
   "id": "7fb468e0",
   "metadata": {},
   "outputs": [
    {
     "name": "stdout",
     "output_type": "stream",
     "text": [
      "<class 'pandas.core.frame.DataFrame'>\n",
      "RangeIndex: 1000 entries, 0 to 999\n",
      "Data columns (total 13 columns):\n",
      " #   Column        Non-Null Count  Dtype  \n",
      "---  ------        --------------  -----  \n",
      " 0   OrderID       1000 non-null   object \n",
      " 1   CustomerID    1000 non-null   object \n",
      " 2   CustomerName  1000 non-null   object \n",
      " 3   Gender        1000 non-null   object \n",
      " 4   Age           497 non-null    float64\n",
      " 5   ProductID     1000 non-null   object \n",
      " 6   ProductName   1000 non-null   object \n",
      " 7   Category      1000 non-null   object \n",
      " 8   Quantity      802 non-null    float64\n",
      " 9   Price         1000 non-null   object \n",
      " 10  Total         802 non-null    float64\n",
      " 11  OrderDate     1000 non-null   object \n",
      " 12  City          359 non-null    object \n",
      "dtypes: float64(3), object(10)\n",
      "memory usage: 101.7+ KB\n"
     ]
    }
   ],
   "source": [
    "df.info()"
   ]
  },
  {
   "cell_type": "code",
   "execution_count": 6,
   "id": "17ff6358",
   "metadata": {},
   "outputs": [
    {
     "data": {
      "text/html": [
       "<div>\n",
       "<style scoped>\n",
       "    .dataframe tbody tr th:only-of-type {\n",
       "        vertical-align: middle;\n",
       "    }\n",
       "\n",
       "    .dataframe tbody tr th {\n",
       "        vertical-align: top;\n",
       "    }\n",
       "\n",
       "    .dataframe thead th {\n",
       "        text-align: right;\n",
       "    }\n",
       "</style>\n",
       "<table border=\"1\" class=\"dataframe\">\n",
       "  <thead>\n",
       "    <tr style=\"text-align: right;\">\n",
       "      <th></th>\n",
       "      <th>OrderID</th>\n",
       "      <th>CustomerID</th>\n",
       "      <th>CustomerName</th>\n",
       "      <th>Gender</th>\n",
       "      <th>Age</th>\n",
       "      <th>ProductID</th>\n",
       "      <th>ProductName</th>\n",
       "      <th>Category</th>\n",
       "      <th>Quantity</th>\n",
       "      <th>Price</th>\n",
       "      <th>Total</th>\n",
       "      <th>OrderDate</th>\n",
       "      <th>City</th>\n",
       "    </tr>\n",
       "  </thead>\n",
       "  <tbody>\n",
       "    <tr>\n",
       "      <th>count</th>\n",
       "      <td>1000</td>\n",
       "      <td>1000</td>\n",
       "      <td>1000</td>\n",
       "      <td>1000</td>\n",
       "      <td>497.000000</td>\n",
       "      <td>1000</td>\n",
       "      <td>1000</td>\n",
       "      <td>1000</td>\n",
       "      <td>802.000000</td>\n",
       "      <td>1000</td>\n",
       "      <td>802.000000</td>\n",
       "      <td>1000</td>\n",
       "      <td>359</td>\n",
       "    </tr>\n",
       "    <tr>\n",
       "      <th>unique</th>\n",
       "      <td>957</td>\n",
       "      <td>948</td>\n",
       "      <td>995</td>\n",
       "      <td>4</td>\n",
       "      <td>NaN</td>\n",
       "      <td>10</td>\n",
       "      <td>10</td>\n",
       "      <td>6</td>\n",
       "      <td>NaN</td>\n",
       "      <td>18</td>\n",
       "      <td>NaN</td>\n",
       "      <td>181</td>\n",
       "      <td>350</td>\n",
       "    </tr>\n",
       "    <tr>\n",
       "      <th>top</th>\n",
       "      <td>O10006</td>\n",
       "      <td>C1118</td>\n",
       "      <td>James Jones</td>\n",
       "      <td>male</td>\n",
       "      <td>NaN</td>\n",
       "      <td>P007</td>\n",
       "      <td>USB Cable</td>\n",
       "      <td>Electronics</td>\n",
       "      <td>NaN</td>\n",
       "      <td>5.99</td>\n",
       "      <td>NaN</td>\n",
       "      <td>2025-01-23</td>\n",
       "      <td>New David</td>\n",
       "    </tr>\n",
       "    <tr>\n",
       "      <th>freq</th>\n",
       "      <td>4</td>\n",
       "      <td>3</td>\n",
       "      <td>2</td>\n",
       "      <td>262</td>\n",
       "      <td>NaN</td>\n",
       "      <td>119</td>\n",
       "      <td>119</td>\n",
       "      <td>327</td>\n",
       "      <td>NaN</td>\n",
       "      <td>115</td>\n",
       "      <td>NaN</td>\n",
       "      <td>13</td>\n",
       "      <td>2</td>\n",
       "    </tr>\n",
       "    <tr>\n",
       "      <th>mean</th>\n",
       "      <td>NaN</td>\n",
       "      <td>NaN</td>\n",
       "      <td>NaN</td>\n",
       "      <td>NaN</td>\n",
       "      <td>41.380282</td>\n",
       "      <td>NaN</td>\n",
       "      <td>NaN</td>\n",
       "      <td>NaN</td>\n",
       "      <td>3.635910</td>\n",
       "      <td>NaN</td>\n",
       "      <td>75.263416</td>\n",
       "      <td>NaN</td>\n",
       "      <td>NaN</td>\n",
       "    </tr>\n",
       "    <tr>\n",
       "      <th>std</th>\n",
       "      <td>NaN</td>\n",
       "      <td>NaN</td>\n",
       "      <td>NaN</td>\n",
       "      <td>NaN</td>\n",
       "      <td>14.114818</td>\n",
       "      <td>NaN</td>\n",
       "      <td>NaN</td>\n",
       "      <td>NaN</td>\n",
       "      <td>6.441098</td>\n",
       "      <td>NaN</td>\n",
       "      <td>157.692549</td>\n",
       "      <td>NaN</td>\n",
       "      <td>NaN</td>\n",
       "    </tr>\n",
       "    <tr>\n",
       "      <th>min</th>\n",
       "      <td>NaN</td>\n",
       "      <td>NaN</td>\n",
       "      <td>NaN</td>\n",
       "      <td>NaN</td>\n",
       "      <td>18.000000</td>\n",
       "      <td>NaN</td>\n",
       "      <td>NaN</td>\n",
       "      <td>NaN</td>\n",
       "      <td>1.000000</td>\n",
       "      <td>NaN</td>\n",
       "      <td>3.250000</td>\n",
       "      <td>NaN</td>\n",
       "      <td>NaN</td>\n",
       "    </tr>\n",
       "    <tr>\n",
       "      <th>25%</th>\n",
       "      <td>NaN</td>\n",
       "      <td>NaN</td>\n",
       "      <td>NaN</td>\n",
       "      <td>NaN</td>\n",
       "      <td>29.000000</td>\n",
       "      <td>NaN</td>\n",
       "      <td>NaN</td>\n",
       "      <td>NaN</td>\n",
       "      <td>2.000000</td>\n",
       "      <td>NaN</td>\n",
       "      <td>18.500000</td>\n",
       "      <td>NaN</td>\n",
       "      <td>NaN</td>\n",
       "    </tr>\n",
       "    <tr>\n",
       "      <th>50%</th>\n",
       "      <td>NaN</td>\n",
       "      <td>NaN</td>\n",
       "      <td>NaN</td>\n",
       "      <td>NaN</td>\n",
       "      <td>41.000000</td>\n",
       "      <td>NaN</td>\n",
       "      <td>NaN</td>\n",
       "      <td>NaN</td>\n",
       "      <td>3.000000</td>\n",
       "      <td>NaN</td>\n",
       "      <td>42.500000</td>\n",
       "      <td>NaN</td>\n",
       "      <td>NaN</td>\n",
       "    </tr>\n",
       "    <tr>\n",
       "      <th>75%</th>\n",
       "      <td>NaN</td>\n",
       "      <td>NaN</td>\n",
       "      <td>NaN</td>\n",
       "      <td>NaN</td>\n",
       "      <td>53.000000</td>\n",
       "      <td>NaN</td>\n",
       "      <td>NaN</td>\n",
       "      <td>NaN</td>\n",
       "      <td>4.000000</td>\n",
       "      <td>NaN</td>\n",
       "      <td>80.000000</td>\n",
       "      <td>NaN</td>\n",
       "      <td>NaN</td>\n",
       "    </tr>\n",
       "    <tr>\n",
       "      <th>max</th>\n",
       "      <td>NaN</td>\n",
       "      <td>NaN</td>\n",
       "      <td>NaN</td>\n",
       "      <td>NaN</td>\n",
       "      <td>65.000000</td>\n",
       "      <td>NaN</td>\n",
       "      <td>NaN</td>\n",
       "      <td>NaN</td>\n",
       "      <td>100.000000</td>\n",
       "      <td>NaN</td>\n",
       "      <td>2975.000000</td>\n",
       "      <td>NaN</td>\n",
       "      <td>NaN</td>\n",
       "    </tr>\n",
       "  </tbody>\n",
       "</table>\n",
       "</div>"
      ],
      "text/plain": [
       "       OrderID CustomerID CustomerName Gender         Age ProductID  \\\n",
       "count     1000       1000         1000   1000  497.000000      1000   \n",
       "unique     957        948          995      4         NaN        10   \n",
       "top     O10006      C1118  James Jones   male         NaN      P007   \n",
       "freq         4          3            2    262         NaN       119   \n",
       "mean       NaN        NaN          NaN    NaN   41.380282       NaN   \n",
       "std        NaN        NaN          NaN    NaN   14.114818       NaN   \n",
       "min        NaN        NaN          NaN    NaN   18.000000       NaN   \n",
       "25%        NaN        NaN          NaN    NaN   29.000000       NaN   \n",
       "50%        NaN        NaN          NaN    NaN   41.000000       NaN   \n",
       "75%        NaN        NaN          NaN    NaN   53.000000       NaN   \n",
       "max        NaN        NaN          NaN    NaN   65.000000       NaN   \n",
       "\n",
       "       ProductName     Category    Quantity Price        Total   OrderDate  \\\n",
       "count         1000         1000  802.000000  1000   802.000000        1000   \n",
       "unique          10            6         NaN    18          NaN         181   \n",
       "top      USB Cable  Electronics         NaN  5.99          NaN  2025-01-23   \n",
       "freq           119          327         NaN   115          NaN          13   \n",
       "mean           NaN          NaN    3.635910   NaN    75.263416         NaN   \n",
       "std            NaN          NaN    6.441098   NaN   157.692549         NaN   \n",
       "min            NaN          NaN    1.000000   NaN     3.250000         NaN   \n",
       "25%            NaN          NaN    2.000000   NaN    18.500000         NaN   \n",
       "50%            NaN          NaN    3.000000   NaN    42.500000         NaN   \n",
       "75%            NaN          NaN    4.000000   NaN    80.000000         NaN   \n",
       "max            NaN          NaN  100.000000   NaN  2975.000000         NaN   \n",
       "\n",
       "             City  \n",
       "count         359  \n",
       "unique        350  \n",
       "top     New David  \n",
       "freq            2  \n",
       "mean          NaN  \n",
       "std           NaN  \n",
       "min           NaN  \n",
       "25%           NaN  \n",
       "50%           NaN  \n",
       "75%           NaN  \n",
       "max           NaN  "
      ]
     },
     "execution_count": 6,
     "metadata": {},
     "output_type": "execute_result"
    }
   ],
   "source": [
    "df.describe(include='all')"
   ]
  },
  {
   "cell_type": "markdown",
   "id": "a23c2952",
   "metadata": {},
   "source": [
    "## 3. Data Cleaning"
   ]
  },
  {
   "cell_type": "code",
   "execution_count": 7,
   "id": "2057d1b7",
   "metadata": {},
   "outputs": [],
   "source": [
    "# Convert OrderDate to datetime format\n",
    "df['OrderDate'] = pd.to_datetime(df['OrderDate'])\n",
    "\n",
    "# Clean Price column\n",
    "df['Price'] = df['Price'].astype(str).str.replace('$', '', regex=False).astype(float)"
   ]
  },
  {
   "cell_type": "code",
   "execution_count": 8,
   "id": "3402272f",
   "metadata": {},
   "outputs": [],
   "source": [
    "# Fill missing values\n",
    "df['Age'] = df['Age'].fillna(df['Age'].median())\n",
    "df['Quantity'] = df['Quantity'].fillna(1)\n",
    "df['City'] = df['City'].fillna('Unknown')"
   ]
  },
  {
   "cell_type": "code",
   "execution_count": 9,
   "id": "97312824",
   "metadata": {},
   "outputs": [],
   "source": [
    "# Standardize gender and remove typos\n",
    "df['Gender'] = df['Gender'].str.capitalize()\n",
    "df['Gender'] = df['Gender'].replace({'Fmale': 'Female'})"
   ]
  },
  {
   "cell_type": "code",
   "execution_count": 10,
   "id": "8c0669f4",
   "metadata": {},
   "outputs": [],
   "source": [
    "# Add Total column\n",
    "df['Total'] = df['Quantity'] * df['Price']"
   ]
  },
  {
   "cell_type": "code",
   "execution_count": 11,
   "id": "458ad883",
   "metadata": {},
   "outputs": [],
   "source": [
    "# Drop duplicates\n",
    "df = df.drop_duplicates()"
   ]
  },
  {
   "cell_type": "markdown",
   "id": "8892c772",
   "metadata": {},
   "source": [
    "### Missing Values Overview"
   ]
  },
  {
   "cell_type": "code",
   "execution_count": 12,
   "id": "a88cdf5e",
   "metadata": {},
   "outputs": [
    {
     "data": {
      "text/plain": [
       "OrderID         0\n",
       "CustomerID      0\n",
       "CustomerName    0\n",
       "Gender          0\n",
       "Age             0\n",
       "ProductID       0\n",
       "ProductName     0\n",
       "Category        0\n",
       "Quantity        0\n",
       "Price           0\n",
       "Total           0\n",
       "OrderDate       0\n",
       "City            0\n",
       "dtype: int64"
      ]
     },
     "execution_count": 12,
     "metadata": {},
     "output_type": "execute_result"
    }
   ],
   "source": [
    "df.isnull().sum()"
   ]
  },
  {
   "cell_type": "markdown",
   "id": "516cb00d",
   "metadata": {},
   "source": [
    "## 4. Visual Analysis"
   ]
  },
  {
   "cell_type": "markdown",
   "id": "ea4e7f55",
   "metadata": {},
   "source": [
    "### Total Sales by Category"
   ]
  },
  {
   "cell_type": "code",
   "execution_count": 13,
   "id": "f8c1db33",
   "metadata": {},
   "outputs": [
    {
     "data": {
      "image/png": "[encoded data removed]",
      "text/plain": [
       "<Figure size 640x480 with 1 Axes>"
      ]
     },
     "metadata": {},
     "output_type": "display_data"
    }
   ],
   "source": [
    "df.groupby('Category')['Total'].sum().sort_values(ascending=False).plot(kind='bar', color='skyblue')\n",
    "plt.title(\"Total Sales by Category\")\n",
    "plt.ylabel(\"Total Sales\")\n",
    "plt.xlabel(\"Category\")\n",
    "plt.tight_layout()\n",
    "plt.show()"
   ]
  },
  {
   "cell_type": "markdown",
   "id": "d4f743f1",
   "metadata": {},
   "source": [
    "### Top 10 Cities by Sales"
   ]
  },
  {
   "cell_type": "code",
   "execution_count": 14,
   "id": "d2c2ccac",
   "metadata": {},
   "outputs": [
    {
     "data": {
      "image/png": "[encoded data removed]",
      "text/plain": [
       "<Figure size 640x480 with 1 Axes>"
      ]
     },
     "metadata": {},
     "output_type": "display_data"
    }
   ],
   "source": [
    "df.groupby('City')['Total'].sum().sort_values(ascending=False).head(10).plot(kind='barh', color='lightgreen')\n",
    "plt.title(\"Top 10 Cities by Sales\")\n",
    "plt.xlabel(\"Total Sales\")\n",
    "plt.ylabel(\"City\")\n",
    "plt.tight_layout()\n",
    "plt.show()"
   ]
  },
  {
   "cell_type": "markdown",
   "id": "b5a211b6",
   "metadata": {},
   "source": [
    "### Sales by Gender"
   ]
  },
  {
   "cell_type": "code",
   "execution_count": 22,
   "id": "b9a3f9e2",
   "metadata": {},
   "outputs": [
    {
     "data": {
      "image/png": "[encoded data removed]",
      "text/plain": [
       "<Figure size 640x480 with 1 Axes>"
      ]
     },
     "metadata": {},
     "output_type": "display_data"
    }
   ],
   "source": [
    "\n",
    "df.groupby('Gender')['Total'].sum().plot(kind='pie',autopct='%1.1f%%')\n",
    "plt.show()"
   ]
  },
  {
   "cell_type": "markdown",
   "id": "291d8ab1",
   "metadata": {},
   "source": [
    "### Age Distribution"
   ]
  },
  {
   "cell_type": "code",
   "execution_count": 16,
   "id": "03e16524",
   "metadata": {},
   "outputs": [
    {
     "data": {
      "image/png": "[encoded data removed]",
      "text/plain": [
       "<Figure size 640x480 with 1 Axes>"
      ]
     },
     "metadata": {},
     "output_type": "display_data"
    }
   ],
   "source": [
    "sns.histplot(df['Age'], kde=True, color='coral')\n",
    "plt.title(\"Age Distribution\")\n",
    "plt.tight_layout()\n",
    "plt.show()"
   ]
  },
  {
   "cell_type": "markdown",
   "id": "97c45170",
   "metadata": {},
   "source": [
    "### Monthly Sales Trend"
   ]
  },
  {
   "cell_type": "code",
   "execution_count": 18,
   "id": "2d20e330",
   "metadata": {},
   "outputs": [
    {
     "data": {
      "image/png": "[encoded data removed]",
      "text/plain": [
       "<Figure size 640x480 with 1 Axes>"
      ]
     },
     "metadata": {},
     "output_type": "display_data"
    }
   ],
   "source": [
    "df.set_index('OrderDate').resample('ME')['Total'].sum().plot(title='Monthly Sales', color='purple')\n",
    "plt.ylabel(\"Total Sales\")\n",
    "plt.tight_layout()\n",
    "plt.show()"
   ]
  },
  {
   "cell_type": "markdown",
   "id": "bca317d9",
   "metadata": {},
   "source": [
    "## 5. Key Business Metrics"
   ]
  },
  {
   "cell_type": "markdown",
   "id": "468484a9",
   "metadata": {},
   "source": [
    "### Top 10 Customers by Lifetime Value"
   ]
  },
  {
   "cell_type": "code",
   "execution_count": 19,
   "id": "16bc1365",
   "metadata": {},
   "outputs": [
    {
     "data": {
      "text/plain": [
       "CustomerID\n",
       "C3337    2975.00\n",
       "C5903    1820.00\n",
       "C5994    1500.00\n",
       "C6419    1299.50\n",
       "C6788    1247.52\n",
       "C6601     465.00\n",
       "C3275     425.29\n",
       "C8215     389.35\n",
       "C1281     299.95\n",
       "C9269     299.95\n",
       "Name: Total, dtype: float64"
      ]
     },
     "execution_count": 19,
     "metadata": {},
     "output_type": "execute_result"
    }
   ],
   "source": [
    "df.groupby('CustomerID')['Total'].sum().sort_values(ascending=False).head(10)"
   ]
  },
  {
   "cell_type": "markdown",
   "id": "64c55cb1",
   "metadata": {},
   "source": [
    "### Average Order Value"
   ]
  },
  {
   "cell_type": "code",
   "execution_count": 20,
   "id": "29196f68",
   "metadata": {},
   "outputs": [
    {
     "data": {
      "text/plain": [
       "np.float64(64.14968)"
      ]
     },
     "execution_count": 20,
     "metadata": {},
     "output_type": "execute_result"
    }
   ],
   "source": [
    "df['Total'].mean()"
   ]
  },
  {
   "cell_type": "markdown",
   "id": "7ae7160c",
   "metadata": {},
   "source": [
    "## 6. Export Cleaned Data"
   ]
  },
  {
   "cell_type": "code",
   "execution_count": 21,
   "id": "74227bd7",
   "metadata": {},
   "outputs": [],
   "source": [
    "df.to_csv(\"Cleaned_SalesData.csv\", index=False)"
   ]
  },
  {
   "cell_type": "markdown",
   "id": "a0d69358",
   "metadata": {},
   "source": [
    "## 7. Conclusion\n",
    "\n",
    "- Highest sales are concentrated in certain categories and cities.\n",
    "- Gender distribution is roughly balanced.\n",
    "- Customers' ages are mostly centered around the median age.\n",
    "- Seasonal trends in sales can help with inventory planning."
   ]
  },
  {
   "cell_type": "code",
   "execution_count": null,
   "id": "b243ac2c-653c-41f2-b728-2c8a61a3935e",
   "metadata": {},
   "outputs": [],
   "source": []
  }
 ],
 "metadata": {
  "kernelspec": {
   "display_name": "Python 3 (ipykernel)",
   "language": "python",
   "name": "python3"
  },
  "language_info": {
   "codemirror_mode": {
    "name": "ipython",
    "version": 3
   },
   "file_extension": ".py",
   "mimetype": "text/x-python",
   "name": "python",
   "nbconvert_exporter": "python",
   "pygments_lexer": "ipython3",
   "version": "3.13.0"
  }
 },
 "nbformat": 4,
 "nbformat_minor": 5
}
